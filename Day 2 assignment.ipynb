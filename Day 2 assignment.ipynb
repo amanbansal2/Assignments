{
 "cells": [
  {
   "cell_type": "code",
   "execution_count": 1,
   "id": "bb0ae862",
   "metadata": {},
   "outputs": [],
   "source": [
    "###Assigment 1 - Calculate variance standard deviation using Python function\n",
    "\n",
    "import numpy as np\n",
    "from math import sqrt"
   ]
  },
  {
   "cell_type": "code",
   "execution_count": 2,
   "id": "9cb8b632",
   "metadata": {},
   "outputs": [
    {
     "name": "stdout",
     "output_type": "stream",
     "text": [
      "2.6666666666666665\n",
      "1.632993161855452\n"
     ]
    }
   ],
   "source": [
    "def var_sd(listX):\n",
    "   \n",
    "    listX = np.array(listX)\n",
    "    m = listX.mean()\n",
    "    n = len(listX)\n",
    "    num = np.repeat(0,len(listX))\n",
    "    for i in range(0,n):\n",
    "        num[i] = (listX[i]-m)**2\n",
    "    var = sum(num)/n\n",
    "    sd = sqrt(var)\n",
    "    return(var,sd)\n",
    "\n",
    "num_list = [1,2,3,4,5,6]\n",
    "v,s = var_sd(num_list)\n",
    "print(v)\n",
    "    \n",
    "print(s)\n",
    "    "
   ]
  },
  {
   "cell_type": "code",
   "execution_count": 9,
   "id": "8a333b58",
   "metadata": {},
   "outputs": [
    {
     "data": {
      "text/plain": [
       "4"
      ]
     },
     "execution_count": 9,
     "metadata": {},
     "output_type": "execute_result"
    }
   ],
   "source": [
    "####Assignment 2 - Calculate the skewness\n",
    "\n",
    "def average(listX):\n",
    "    get_sum = sum(listX)\n",
    "    n = len(listX)\n",
    "    average= get_sum/n\n",
    "    return(average)\n",
    "\n",
    "def mode(listX):\n",
    "    from scipy.stats import mode\n",
    "    md = mode(listX)\n",
    "    return(md[0])\n",
    "\n",
    "def std_dv (listX):\n",
    "    listX = np.array(listX)\n",
    "    m = listX.mean()\n",
    "    n = len(listX)\n",
    "    num = np.repeat(0,len(listX))\n",
    "    for i in range(0,n):\n",
    "        num[i] = (listX[i]-m)**2\n",
    "    var = sum(num)/n\n",
    "    sd = sqrt(var)\n",
    "    return(sd)\n",
    "\n",
    "def skewness(population):\n",
    "    avg = average(population)\n",
    "    md = mode(population)\n",
    "    sd = std_dv(population)\n",
    "    skewness = (avg-md)/sd\n",
    "    return(int(skewness))\n",
    "    \n",
    "population = np.random.normal(loc=0,scale=1,size=1000)\n",
    "skewness(population)"
   ]
  },
  {
   "cell_type": "code",
   "execution_count": null,
   "id": "9936083d",
   "metadata": {},
   "outputs": [],
   "source": []
  }
 ],
 "metadata": {
  "kernelspec": {
   "display_name": "Python 3 (ipykernel)",
   "language": "python",
   "name": "python3"
  },
  "language_info": {
   "codemirror_mode": {
    "name": "ipython",
    "version": 3
   },
   "file_extension": ".py",
   "mimetype": "text/x-python",
   "name": "python",
   "nbconvert_exporter": "python",
   "pygments_lexer": "ipython3",
   "version": "3.9.12"
  }
 },
 "nbformat": 4,
 "nbformat_minor": 5
}
