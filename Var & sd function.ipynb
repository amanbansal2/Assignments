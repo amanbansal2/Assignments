{
 "cells": [
  {
   "cell_type": "code",
   "execution_count": 1,
   "id": "bb0ae862",
   "metadata": {},
   "outputs": [],
   "source": [
    "###Assigment 1 - Calculate variance standard deviation using Python function\n",
    "\n",
    "import numpy as np\n",
    "from math import sqrt"
   ]
  },
  {
   "cell_type": "code",
   "execution_count": 2,
   "id": "9cb8b632",
   "metadata": {},
   "outputs": [
    {
     "name": "stdout",
     "output_type": "stream",
     "text": [
      "2.6666666666666665\n",
      "1.632993161855452\n"
     ]
    }
   ],
   "source": [
    "def var_sd(listX):\n",
    "   \n",
    "    listX = np.array(listX)\n",
    "    m = listX.mean()\n",
    "    n = len(listX)\n",
    "    num = np.repeat(0,len(listX))\n",
    "    for i in range(0,n):\n",
    "        num[i] = (listX[i]-m)**2\n",
    "    var = sum(num)/n\n",
    "    sd = sqrt(var)\n",
    "    return(var,sd)\n",
    "\n",
    "num_list = [1,2,3,4,5,6]\n",
    "v,s = var_sd(num_list)\n",
    "print(v)\n",
    "    \n",
    "print(s)\n",
    "    "
   ]
  }
 ],
 "metadata": {
  "kernelspec": {
   "display_name": "Python 3 (ipykernel)",
   "language": "python",
   "name": "python3"
  },
  "language_info": {
   "codemirror_mode": {
    "name": "ipython",
    "version": 3
   },
   "file_extension": ".py",
   "mimetype": "text/x-python",
   "name": "python",
   "nbconvert_exporter": "python",
   "pygments_lexer": "ipython3",
   "version": "3.9.12"
  }
 },
 "nbformat": 4,
 "nbformat_minor": 5
}
