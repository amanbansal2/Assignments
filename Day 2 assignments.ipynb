{
 "cells": [
  {
   "cell_type": "code",
   "execution_count": 2,
   "id": "bb0ae862",
   "metadata": {},
   "outputs": [],
   "source": [
    "###Assigment 1 - Calculate variance standard deviation using Python function\n",
    "\n",
    "import numpy as np\n",
    "from math import sqrt"
   ]
  },
  {
   "cell_type": "code",
   "execution_count": 4,
   "id": "9cb8b632",
   "metadata": {},
   "outputs": [
    {
     "name": "stdout",
     "output_type": "stream",
     "text": [
      "2.6666666666666665\n",
      "1.632993161855452\n"
     ]
    }
   ],
   "source": [
    "def var_sd(listX):\n",
    "   \n",
    "    listX = np.array(listX)\n",
    "    m = listX.mean()\n",
    "    n = len(listX)\n",
    "    num = np.repeat(0,len(listX))\n",
    "    for i in range(0,n):\n",
    "        num[i] = (listX[i]-m)**2\n",
    "    var = sum(num)/n\n",
    "    sd = sqrt(var)\n",
    "    return(var,sd)\n",
    "\n",
    "num_list = [1,2,3,4,5,6]\n",
    "v,s = var_sd(num_list)\n",
    "print(v)\n",
    "    \n",
    "print(s)\n",
    "    "
   ]
  },
  {
   "cell_type": "code",
   "execution_count": 8,
   "id": "d7b2d65b",
   "metadata": {},
   "outputs": [
    {
     "data": {
      "text/plain": [
       "2"
      ]
     },
     "execution_count": 8,
     "metadata": {},
     "output_type": "execute_result"
    }
   ],
   "source": [
    "####Assignment 2 - Calculate the skewness\n",
    "\n",
    "def average(listX):\n",
    "    get_sum = sum(listX)\n",
    "    n = len(listX)\n",
    "    average= get_sum/n\n",
    "    return(average)\n",
    "\n",
    "def mode(listX):\n",
    "    from scipy.stats import mode\n",
    "    md = mode(listX)\n",
    "    return(md[0])\n",
    "\n",
    "def std_dv (listX):\n",
    "    listX = np.array(listX)\n",
    "    m = listX.mean()\n",
    "    n = len(listX)\n",
    "    num = np.repeat(0,len(listX))\n",
    "    for i in range(0,n):\n",
    "        num[i] = (listX[i]-m)**2\n",
    "    var = sum(num)/n\n",
    "    sd = sqrt(var)\n",
    "    return(sd)\n",
    "\n",
    "def skewness(population):\n",
    "    avg = average(population)\n",
    "    md = mode(population)\n",
    "    sd = std_dv(population)\n",
    "    skewness = (avg-md)/sd\n",
    "    return(int(skewness))\n",
    "    \n",
    "population = np.random.normal(loc=0,scale=1,size=100)\n",
    "skewness(population)"
   ]
  },
  {
   "cell_type": "code",
   "execution_count": 16,
   "id": "17b9bb09",
   "metadata": {},
   "outputs": [
    {
     "name": "stdout",
     "output_type": "stream",
     "text": [
      "2.565880714757514\n",
      "We do not have enough evidence to reject null hypothesis and therefore, there is no significant inprovement in marks because of the undertaking Course at 0.025 LOS \n"
     ]
    }
   ],
   "source": [
    "##### Assignment 3 - Paired sample T-test for the following data\n",
    "import pandas as pd\n",
    "import pandas as pd\n",
    "from math import sqrt\n",
    "from scipy import stats\n",
    "\n",
    "\n",
    "Before_Course = [44,40,61,52,32,44,70,41,67,72,53,72]\n",
    "After_Course = [53,38,69,57,46,39,73,74,60,78,80,89]\n",
    "\n",
    "def paired_t_test (data,After_Course,Before_Course):\n",
    "    df = pd.DataFrame() \n",
    "    df['d'] = data[After_Course] - data[Before_Course]\n",
    "    df['d2'] = df['d']*df['d']\n",
    "    n = len(df['d'])\n",
    "    b = n*sum(df['d2']) - (sum(df['d']))**2\n",
    "    b = sqrt(b/(n-1))\n",
    "    a = sum(df['d'])\n",
    "    t_value = (a/b)\n",
    "    return(t_value)\n",
    "\n",
    "\n",
    "\n",
    "data = pd.DataFrame({'Before_Course':[44,40,61,52,32,44,70,41,67,72,53,72],'After_Course':[53,38,69,57,46,39,73,74,60,78,80,89]})\n",
    "\n",
    "\n",
    "t_value = paired_t_test(data,'After_Course','Before_Course')\n",
    "print(t_value)\n",
    "\n",
    "alpha = 0.025\n",
    "tab_t = 2.681\n",
    "if t_value > tab_t:\n",
    "    print(f\"We have enough evidence to reject null hypothesis and therefore, there is a significant inprovement in marks because of the undertaking Course at {alpha} LOS \")\n",
    "else:\n",
    "    print(f\"We do not have enough evidence to reject null hypothesis and therefore, there is no significant inprovement in marks because of the undertaking Course at {alpha} LOS \")"
   ]
  },
  {
   "cell_type": "code",
   "execution_count": 12,
   "id": "552a328f",
   "metadata": {},
   "outputs": [
    {
     "name": "stdout",
     "output_type": "stream",
     "text": [
      "We do not have enough evidence to reject null hypothesis and therefore, there is no significant diffrence in observed and actual data at 0.05 LOS \n"
     ]
    }
   ],
   "source": [
    "####  Assignment 4 - chi2 testing ############\n",
    "## 2 datasets, first is to select the null hypothesis and second is to reject the null hypothesis\n",
    "\n",
    "import pandas as pd\n",
    "import numpy as np\n",
    "tab = pd.DataFrame({'Observed':[41,59],'Expected':[33,67]})\n",
    "def chi_sq(data,Observed,Expected):\n",
    "    data['Obs_Exp']=((tab[Observed]-tab[Expected])**2)/tab[Expected]\n",
    "    chisq = sum(data['Obs_Exp'])\n",
    "    return(chisq)\n",
    "cal_chi = chi_sq(tab,'Observed','Expected')\n",
    "2.8946178199909545\n",
    "tabulated_chi = 3.84\n",
    "alpha = 0.05\n",
    "if cal_chi > tabulated_chi:\n",
    "    print(f\"We have enough evidence to reject null hypothesis and therefore, there is a significant diffrence in observed and actual data at {alpha} LOS \")\n",
    "else:\n",
    "    print(f\"We do not have enough evidence to reject null hypothesis and therefore, there is no significant diffrence in observed and actual data at {alpha} LOS \")\n",
    "\n",
    "\n"
   ]
  },
  {
   "cell_type": "code",
   "execution_count": 13,
   "id": "14234cdf",
   "metadata": {},
   "outputs": [
    {
     "name": "stdout",
     "output_type": "stream",
     "text": [
      "We have enough evidence to reject null hypothesis and therefore, there is a significant diffrence in observed and actual data at 0.05 LOS \n"
     ]
    }
   ],
   "source": [
    "\n",
    "tab = pd.DataFrame({'Observed':[41,59],'Expected':[90,100]})\n",
    "def chi_sq(data,Observed,Expected):\n",
    "    data['Obs_Exp']=((tab[Observed]-tab[Expected])**2)/tab[Expected]\n",
    "    chisq = sum(data['Obs_Exp'])\n",
    "    return(chisq)\n",
    "cal_chi = chi_sq(tab,'Observed','Expected')\n",
    "43.48777777777778\n",
    "tabulated_chi = 3.84\n",
    "alpha = 0.05\n",
    "if cal_chi > tabulated_chi:\n",
    "    print(f\"We have enough evidence to reject null hypothesis and therefore, there is a significant diffrence in observed and actual data at {alpha} LOS \")\n",
    "else:\n",
    "    print(f\"We do not have enough evidence to reject null hypothesis and therefore, there is no significant diffrence in observed and actual data at {alpha} LOS \")\n"
   ]
  },
  {
   "cell_type": "code",
   "execution_count": null,
   "id": "454d013f",
   "metadata": {},
   "outputs": [],
   "source": []
  }
 ],
 "metadata": {
  "kernelspec": {
   "display_name": "Python 3 (ipykernel)",
   "language": "python",
   "name": "python3"
  },
  "language_info": {
   "codemirror_mode": {
    "name": "ipython",
    "version": 3
   },
   "file_extension": ".py",
   "mimetype": "text/x-python",
   "name": "python",
   "nbconvert_exporter": "python",
   "pygments_lexer": "ipython3",
   "version": "3.9.12"
  }
 },
 "nbformat": 4,
 "nbformat_minor": 5
}
